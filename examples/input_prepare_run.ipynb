{
 "cells": [
  {
   "cell_type": "code",
   "execution_count": 1,
   "metadata": {},
   "outputs": [
    {
     "name": "stdout",
     "output_type": "stream",
     "text": [
      "\u001b[93m\u001b[1mWarning\u001b[0m: \u001b[22mYou are currently using a post release development version of AiiDA: 2.0.0.post0\u001b[0m\n",
      "\u001b[93m\u001b[1mWarning\u001b[0m: \u001b[22mBe aware that this is not recommended for production and is not officially supported.\u001b[0m\n",
      "\u001b[93m\u001b[1mWarning\u001b[0m: \u001b[22mDatabases used with this version may not be compatible with future releases of AiiDA\u001b[0m\n",
      "\u001b[93m\u001b[1mWarning\u001b[0m: \u001b[22mas you might not be able to automatically migrate your data.\n",
      "\u001b[0m\n"
     ]
    },
    {
     "data": {
      "text/plain": [
       "<aiida.manage.configuration.profile.Profile at 0x7faefa83b970>"
      ]
     },
     "execution_count": 1,
     "metadata": {},
     "output_type": "execute_result"
    }
   ],
   "source": [
    "from aiida import orm\n",
    "import aiida\n",
    "\n",
    "aiida.load_profile('quicksetup')"
   ]
  },
  {
   "cell_type": "code",
   "execution_count": 4,
   "metadata": {},
   "outputs": [
    {
     "name": "stderr",
     "output_type": "stream",
     "text": [
      "04/21/2022 05:39:26 PM <818305> aiida.scheduler.direct: [WARNING] Physical memory limiting is not supported by the direct scheduler.\n"
     ]
    }
   ],
   "source": [
    "from aiida import engine\n",
    "from aiida import orm\n",
    "import os\n",
    "\n",
    "from aiida_opsp.calcjob import OncvPseudoCalculation\n",
    "\n",
    "computer = orm.load_computer('localhost')\n",
    "code = orm.Code(label='oncv4-0', remote_computer_exec=[computer, '/home/jyu/Projects/WP-OPSP/bin/oncvpsp.x'], input_plugin_name='opsp.pseudo.oncv')\n",
    "\n",
    "conf_name = orm.Str('Li-s')\n",
    "angular_momentum_settings = orm.Dict(\n",
    "    dict={\n",
    "        's': {\n",
    "            'rc': 1.4,\n",
    "            'ncon': 4,\n",
    "            'nbas': 8,\n",
    "            'qcut': 8.6,\n",
    "            'nproj': 2,\n",
    "            'debl': 1.0,\n",
    "        },\n",
    "        'p': {\n",
    "            'rc': 1.1,\n",
    "            'ncon': 4,\n",
    "            'nbas': 8,\n",
    "            'qcut': 9.0,\n",
    "            'nproj': 2,\n",
    "            'debl': 1.0,\n",
    "        }, \n",
    "    }\n",
    ")\n",
    "local_potential_settings = orm.Dict(\n",
    "    dict={\n",
    "        'llcol': 4, # fix\n",
    "        'lpopt': 5, # 1-5, algorithm enum set\n",
    "        'rc(5)': 1.1,\n",
    "        'dvloc0': 0.0,\n",
    "    }\n",
    ")\n",
    "nlcc_settings = orm.Dict(\n",
    "    dict={\n",
    "        'icmod': 0,\n",
    "        'fcfact': 0.25,\n",
    "    }\n",
    ")\n",
    "inputs = {\n",
    "    'code': code,\n",
    "    'conf_name': conf_name,\n",
    "    'lmax': orm.Int(1),\n",
    "    'angular_momentum_settings': angular_momentum_settings,\n",
    "    'local_potential_settings': local_potential_settings,\n",
    "    'nlcc_settings': nlcc_settings,\n",
    "    'run_atomic_test': orm.Bool(True),\n",
    "    'dump_psp': orm.Bool(False),\n",
    "    'metadata': {\n",
    "        'options': {\n",
    "            'resources': {\n",
    "                'num_machines': int(1)\n",
    "            },\n",
    "            'max_wallclock_seconds': int(60),\n",
    "            'withmpi': False,\n",
    "        },\n",
    "        # 'dry_run':True,\n",
    "    }\n",
    "}\n",
    "\n",
    "output, node = engine.run_get_node(OncvPseudoCalculation, **inputs)"
   ]
  },
  {
   "cell_type": "code",
   "execution_count": null,
   "metadata": {},
   "outputs": [],
   "source": [
    "output['output'].get_content()"
   ]
  },
  {
   "cell_type": "code",
   "execution_count": null,
   "metadata": {},
   "outputs": [],
   "source": [
    "node.attributes"
   ]
  },
  {
   "cell_type": "code",
   "execution_count": null,
   "metadata": {},
   "outputs": [],
   "source": []
  }
 ],
 "metadata": {
  "interpreter": {
   "hash": "3e5ef245ae35307012e32f9e428204a7d1ac0ed267b0ad1ccbcce6f7c6521f67"
  },
  "kernelspec": {
   "display_name": "Python 3.9.10 ('opsp-ea')",
   "language": "python",
   "name": "python3"
  },
  "language_info": {
   "codemirror_mode": {
    "name": "ipython",
    "version": 3
   },
   "file_extension": ".py",
   "mimetype": "text/x-python",
   "name": "python",
   "nbconvert_exporter": "python",
   "pygments_lexer": "ipython3",
   "version": "3.9.10"
  },
  "orig_nbformat": 4
 },
 "nbformat": 4,
 "nbformat_minor": 2
}
