{
 "cells": [
  {
   "cell_type": "code",
   "execution_count": 1,
   "metadata": {},
   "outputs": [
    {
     "data": {
      "text/plain": [
       "Profile<uuid='152ba6b1f4ad4726905c46d707406b30' name='quicksetup'>"
      ]
     },
     "execution_count": 1,
     "metadata": {},
     "output_type": "execute_result"
    }
   ],
   "source": [
    "from aiida import orm\n",
    "import aiida\n",
    "\n",
    "aiida.load_profile('quicksetup')"
   ]
  },
  {
   "cell_type": "code",
   "execution_count": 2,
   "metadata": {},
   "outputs": [],
   "source": [
    "from aiida import engine\n",
    "from aiida import orm\n",
    "import os\n",
    "\n",
    "from aiida_opsp.calcjob import OncvPseudoCalculation\n",
    "\n",
    "computer = orm.load_computer('localhost')\n",
    "code = orm.Code(label='oncv4-0', remote_computer_exec=[computer, '/home/jyu/Projects/WP-OPSP/bin/oncvpsp.x'], input_plugin_name='opsp.pseudo.oncv')\n",
    "\n",
    "\n",
    "def get_inputs(rc_d, qcut_d):\n",
    "    conf_name = orm.Str('Ga-d')\n",
    "    angular_momentum_settings = orm.Dict(\n",
    "        dict={\n",
    "            's': {\n",
    "                'rc': 1.65,\n",
    "                'ncon': 4,\n",
    "                'nbas': 8,\n",
    "                'qcut': 4.4,\n",
    "                'nproj': 2,\n",
    "                'debl': 3.0,\n",
    "            },\n",
    "            'p': {\n",
    "                'rc': 1.75,\n",
    "                'ncon': 4,\n",
    "                'nbas': 8,\n",
    "                'qcut': 5.8,\n",
    "                'nproj': 2,\n",
    "                'debl': 3.0,\n",
    "            }, \n",
    "            'd': {\n",
    "                'rc': rc_d,\n",
    "                'ncon': 4,\n",
    "                'nbas': 9,\n",
    "                'qcut': qcut_d,\n",
    "                'nproj': 2,\n",
    "                'debl': 2.0,\n",
    "            }, \n",
    "        }\n",
    "    )\n",
    "    local_potential_settings = orm.Dict(\n",
    "        dict={\n",
    "            'llcol': 4, # fix\n",
    "            'lpopt': 5, # 1-5, algorithm enum set\n",
    "            'rc(5)': 1.6,\n",
    "            'dvloc0': 0.0,\n",
    "        }\n",
    "    )\n",
    "    nlcc_settings = orm.Dict(\n",
    "        dict={\n",
    "            'icmod': 3,\n",
    "            'fcfact': 5.0,\n",
    "            'rcfact': 1.4,\n",
    "        }\n",
    "    )\n",
    "    inputs = {\n",
    "        'code': code,\n",
    "        'conf_name': conf_name,\n",
    "        'lmax': orm.Int(2),\n",
    "        'angular_momentum_settings': angular_momentum_settings,\n",
    "        'local_potential_settings': local_potential_settings,\n",
    "        'nlcc_settings': nlcc_settings,\n",
    "        'run_atomic_test': orm.Bool(True),\n",
    "        'dump_psp': orm.Bool(False),\n",
    "        'metadata': {\n",
    "            'options': {\n",
    "                'resources': {\n",
    "                    'num_machines': int(1)\n",
    "                },\n",
    "                'max_wallclock_seconds': int(60),\n",
    "                'withmpi': False,\n",
    "            },\n",
    "            # 'dry_run':True,\n",
    "        }\n",
    "    }\n",
    "    \n",
    "    return inputs"
   ]
  },
  {
   "cell_type": "code",
   "execution_count": 3,
   "metadata": {},
   "outputs": [],
   "source": [
    "import numpy as np\n",
    "import time\n",
    "from aiida import orm\n",
    "\n",
    "group = orm.Group(label='ga_d_rc_qcut_20x20')\n",
    "group.store()\n",
    "group = orm.load_group(label='ga_d_rc_qcut_20x20')\n",
    "\n",
    "lst = [(rc, qcut) for rc in np.linspace(1.6, 2.6, 21) for qcut in np.linspace(8, 16, 21)]\n",
    "\n",
    "for rc, qcut in lst[:]:\n",
    "    rc = round(rc, 2)\n",
    "    qcut = round(qcut, 2)\n",
    "    \n",
    "    inputs = get_inputs(rc, qcut)\n",
    "    node = engine.submit(OncvPseudoCalculation, **inputs)\n",
    "    node.description = f'rc_d={rc}, qcut_d={qcut}'\n",
    "    print(f'rc_s={rc}, qcut_s={qcut}')\n",
    "    group.add_nodes(node)\n",
    "    \n",
    "    time.sleep(1)"
   ]
  },
  {
   "cell_type": "code",
   "execution_count": null,
   "metadata": {},
   "outputs": [],
   "source": [
    "# import numpy as np\n",
    "# import time\n",
    "# from aiida import orm\n",
    "\n",
    "# # group = orm.Group(label='li_s_rc_qcut-zoom-in')\n",
    "# # group.store()\n",
    "# group = orm.load_group(label='li_s_rc_qcut-zoom-in')\n",
    "\n",
    "# lst = [(rc, qcut) for rc in np.linspace(1.4, 1.4, 1) for qcut in np.linspace(8, 9, 11)]\n",
    "\n",
    "# for rc, qcut in lst[:]:\n",
    "#     rc = round(rc, 2)\n",
    "#     qcut = round(qcut, 2)\n",
    "    \n",
    "#     inputs = get_inputs(rc, qcut)\n",
    "#     node = engine.submit(OncvPseudoCalculation, **inputs)\n",
    "#     node.description = f'rc_s={rc}, qcut_s={qcut}'\n",
    "#     # print(f'rc_s={rc}, qcut_s={qcut}')\n",
    "#     group.add_nodes(node)\n",
    "    \n",
    "#     time.sleep(1)"
   ]
  }
 ],
 "metadata": {
  "interpreter": {
   "hash": "3e5ef245ae35307012e32f9e428204a7d1ac0ed267b0ad1ccbcce6f7c6521f67"
  },
  "kernelspec": {
   "display_name": "Python 3.9.10 ('opsp-ea')",
   "language": "python",
   "name": "python3"
  },
  "language_info": {
   "codemirror_mode": {
    "name": "ipython",
    "version": 3
   },
   "file_extension": ".py",
   "mimetype": "text/x-python",
   "name": "python",
   "nbconvert_exporter": "python",
   "pygments_lexer": "ipython3",
   "version": "3.9.10"
  },
  "orig_nbformat": 4
 },
 "nbformat": 4,
 "nbformat_minor": 2
}
